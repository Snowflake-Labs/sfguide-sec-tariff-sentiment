{
 "metadata": {
  "kernelspec": {
   "display_name": "Streamlit Notebook",
   "name": "streamlit"
  }
 },
 "nbformat_minor": 5,
 "nbformat": 4,
 "cells": [
  {
   "cell_type": "code",
   "id": "3775908f-ca36-4846-8f38-5adca39217f2",
   "metadata": {
    "language": "python",
    "name": "imports",
    "collapsed": false
   },
   "source": "# Import python packages\nimport streamlit as st\nimport pandas as pd\nfrom snowflake.cortex import Complete\nfrom snowflake.snowpark.context import get_active_session\n\nsession = get_active_session()\ndb = str(session.get_current_database().strip('\"'))\nsolution_prefix = (db.upper()).split('_PROD')[0]",
   "execution_count": null,
   "outputs": []
  },
  {
   "cell_type": "markdown",
   "id": "63970aa3-8dc7-481b-ae07-3db59288d4e0",
   "metadata": {
    "name": "query_history_md",
    "collapsed": false
   },
   "source": "### Get Query History"
  },
  {
   "cell_type": "code",
   "id": "040d8ccf-0f9a-4454-9b1a-f6e7631e08d2",
   "metadata": {
    "language": "sql",
    "name": "query_history",
    "collapsed": false
   },
   "outputs": [],
   "source": "WITH notebook_execution_time AS (\n    SELECT \n        MIN(start_time) AS execution_time\n    FROM \n        SNOWFLAKE.ACCOUNT_USAGE.QUERY_HISTORY\n    WHERE \n        user_name = '{{solution_prefix}}_SOLE_ADMIN'\n        AND upper(query_text) LIKE '%EXECUTE NOTEBOOK%'\n)\nSELECT \n    REGEXP_REPLACE(CAST(query_text AS STRING), '(COMMENT\\s*=\\s*''[^'']*''|COMMENT\\s*''[^'']*'')\\s*', '') AS query_text,\n    total_elapsed_time,\n    user_name\nFROM \n    SNOWFLAKE.ACCOUNT_USAGE.QUERY_HISTORY\nWHERE \n    user_name = '{{solution_prefix}}_SOLE_ADMIN'\n    AND ( \n        (SELECT execution_time FROM notebook_execution_time) IS NULL \n        OR start_time < (SELECT execution_time FROM notebook_execution_time)\n    )\n    AND upper(query_text) NOT LIKE '%ALTER USER%'\n    AND upper(query_text) NOT LIKE 'SHOW%'\n    AND upper(query_text) NOT LIKE '%BUILD_WH%'\n    AND (upper(query_text) LIKE '%ACCOUNTADMIN%' \n    OR upper(query_text) NOT LIKE '%_ADMIN%')\n    AND upper(query_text) NOT LIKE '%CURRENT_ACCOUNT%'\n    AND upper(query_text) NOT LIKE '%IMPORTED PRIVILEGES%'\n    AND upper(query_text) NOT LIKE 'CREATE STAGE%'\n    AND upper(query_text) NOT LIKE 'GRANT OWNERSHIP ON STAGE%'\n    AND upper(query_text) NOT LIKE 'PUT FILE%'\n    AND upper(query_text) NOT LIKE 'CREATE OR REPLACE NOTEBOOK%'\n    AND upper(query_text) NOT LIKE 'ALTER NOTEBOOK%'\n    AND upper(query_text) NOT LIKE '%NOT NEEDED FOR QUICKSTART%'\nORDER BY \n    start_time ASC;\n",
   "execution_count": null
  },
  {
   "cell_type": "code",
   "id": "15deb2be-f921-416a-9d02-cb591bae886b",
   "metadata": {
    "language": "python",
    "name": "qh_df",
    "collapsed": false
   },
   "outputs": [],
   "source": "query_history_df = query_history.to_df()",
   "execution_count": null
  },
  {
   "cell_type": "code",
   "id": "c1a180d1-fbb0-4715-83ca-1e512e0b0c7d",
   "metadata": {
    "language": "python",
    "name": "queries",
    "collapsed": false
   },
   "outputs": [],
   "source": "query_text = \"\\n\".join(\n    (row['QUERY_TEXT'].rstrip(';') + ';' for row in query_history_df.collect())\n) + \"\\n\\n\"\nquery_text",
   "execution_count": null
  },
  {
   "cell_type": "code",
   "id": "8b1a8143-f7b3-48f7-8058-b74fc2261847",
   "metadata": {
    "language": "python",
    "name": "template_def",
    "collapsed": false
   },
   "outputs": [],
   "source": "template = '''author: Fill in sample AUTHOR_NAME\nid: Fill in sample quickstart name\nsummary: Fill in Summary\ncategories: Getting-Started\nenvironments: web\nstatus: Published \nfeedback link: https://github.com/Snowflake-Labs/sfguides/issues\ntags: Getting Started, Data Science, Data Engineering \n\n# Fill in Solution Heading\n<!-- ------------------------ -->\n## Overview \nDuration: 1\n\nFill in solution description\n\n### Prerequisites\n- Fill in prerequisites\n\n### What You Will Learn \n- Fill in what you will learn\n\n### What You Will Need \n- A [GitHub](https://github.com/) Account \n- Fill in More based on content\n\n### What You Will Build \n- Fill in what you will build list\n\n\nYou can see the source metadata for this guide you are reading now, on [the github repo](https://raw.githubusercontent.com/Snowflake-Labs/sfguides/master/site/sfguides/sample.md).\n\n\n<!-- ------------------------ -->\n## Instructions for Creating a Step in the Quickstart(Do not include this, its just instruction)\nDuration: 2\n\nA single sfguide consists of multiple steps. These steps are defined in Markdown using Header 2 tag `##`. \n\n```markdown\n## Step 1 Title\nDuration: 3\n\nAll the content for the step goes here.\n\n## Step 2 Title\nDuration: 1\n\nAll the content for the step goes here.\n```\n\nTo indicate how long each step will take, set the `Duration` under the step title (i.e. `##`) to an integer. The integers refer to minutes. If you set `Duration: 4` then a particular step will take 4 minutes to complete. \n\nThe total sfguide completion time is calculated automatically for you and will be displayed on the landing page. \n\n<!-- ------------------------ -->\n## Code Snippets, Info Boxes, and Tables\nDuration: 2\n\nLook at the [markdown source for this sfguide](https://raw.githubusercontent.com/Snowflake-Labs/sfguides/master/site/sfguides/sample.md) to see how to use markdown to generate code snippets, info boxes, and download buttons. \n\n### JavaScript\n```javascript\n{ \n  key1: \"string\", \n  key2: integer,\n  key3: \"string\"\n}\n```\n\n### Java\n```java\nfor (statement 1; statement 2; statement 3) {\n  // code block to be executed\n}\n```\n\n### Info Boxes\n> aside positive\n> \n>  This will appear in a positive info box.\n\n\n> aside negative\n> \n>  This will appear in a negative info box.\n\n### Buttons\n<button>\n\n  [This is a download button](link.com)\n</button>\n\n### Tables\n<table>\n    <thead>\n        <tr>\n            <th colspan=\"2\"> **The table header** </th>\n        </tr>\n    </thead>\n    <tbody>\n        <tr>\n            <td>The table body</td>\n            <td>with two columns</td>\n        </tr>\n    </tbody>\n</table>\n\n### Hyperlinking\n[Youtube - Halsey Playlists](https://www.youtube.com/user/iamhalsey/playlists)\n\n<!-- ------------------------ -->\n## Images, Videos, and Surveys, and iFrames\nDuration: 2\n\nLook at the [markdown source for this guide](https://raw.githubusercontent.com/Snowflake-Labs/sfguides/master/site/sfguides/sample.md) to see how to use markdown to generate these elements. \n\n### Images\n<img src=\"assets/SAMPLE.png\"/>\n\n### Videos\nVideos from youtube can be directly embedded:\n<video id=\"KmeiFXrZucE\"></video>\n\n### Inline Surveys\n<form>\n  <name>How do you rate yourself as a user of Snowflake?</name>\n  <input type=\"radio\" value=\"Beginner\">\n  <input type=\"radio\" value=\"Intermediate\">\n  <input type=\"radio\" value=\"Advanced\">\n</form>\n\n### Embed an iframe\n![https://codepen.io/MarioD/embed/Prgeja](https://en.wikipedia.org/wiki/File:Example.jpg \"Try Me Publisher\")\n\n<!-- ------------------------ -->\n## Conclusion And Resources\nDuration: 1\n\nAt the end of your Snowflake Guide, always have a clear call to action (CTA). This CTA could be a link to the docs pages, links to videos on youtube, a GitHub repo link, etc. \n\nIf you want to learn more about Snowflake Guide formatting, checkout the official documentation here: [Formatting Guide](https://github.com/googlecodelabs/tools/blob/master/FORMAT-GUIDE.md)\n\n### What You Learned\n- Provide list of what was learned\n\n### Related Resources\n- Provide links to Resources\n'''",
   "execution_count": null
  },
  {
   "cell_type": "code",
   "id": "0aa745a3-22a7-47a4-acea-3e673b0b3130",
   "metadata": {
    "language": "sql",
    "name": "stage_files",
    "collapsed": false
   },
   "outputs": [],
   "source": "ls @{{db}}.ANALYTICS.QUICKSTART;",
   "execution_count": null
  },
  {
   "cell_type": "code",
   "id": "f6f30094-6b6b-4fe6-85b9-67385a2b6890",
   "metadata": {
    "language": "python",
    "name": "content",
    "collapsed": false
   },
   "outputs": [],
   "source": "files = stage_files.to_pandas()\n\nfile_paths = files['name'].tolist()  # Convert the column to a list\n\n# Initialize a variable to store concatenated content\nall_content = \"\"\n\n# Loop through each file path and read content\nfor file_path in file_paths:\n    if file_path.endswith('.md'):\n        # Get file stream from Snowflake\n        f = session.file.get_stream(f\"@{db}.ANALYTICS.\" + file_path)\n        \n        # Read the file content in binary mode\n        file_content = f.read()\n        f.close()\n        try:\n            file_content = file_content.decode('utf-8')  # Decode bytes to string as UTF-8\n        except UnicodeDecodeError:\n            try:\n                file_content = file_content.decode('latin-1')  # Fallback to Latin-1 encoding\n            except UnicodeDecodeError:\n                file_content = file_content.decode('utf-8', errors='ignore')  # Ignore errors if needed\n        \n        # Concatenate content\n        all_content += file_content + \"\\n\" \n\nall_content",
   "execution_count": null
  },
  {
   "cell_type": "code",
   "id": "a73c8eec-f465-4a3e-9c80-86e2ad10d525",
   "metadata": {
    "language": "python",
    "name": "generate_qs",
    "collapsed": false
   },
   "outputs": [],
   "source": "prompt = f\"\"\"\nYou are tasked with generating a complete quickstart document for a solution. The structure and format of the document must follow the template provided below. Make sure to address the following key points:\n\n{template}\n\nYou are provided with the following content:\n\n**Supporting Content:**\n{all_content}\n\n**Important Instructions:**\n1. **Content Population:** Populate the quickstart document exclusively with content from the `Supporting Content` sections. Ensure the final document strictly adheres to the template's structure.\n2. **Overview Section:** The \"Overview\" section must include a description of the solution right below Overview after Duration. Ensure that all subheadings are included, and provide a meaningful description based on the `Supporting Content`. If specific details are not available, clearly indicate that the description is empty but maintain the section's structure.\n3. **No Placeholder Text:** Do **not** include any text or placeholders from the template that are not directly replaced with content from the provided files.\n4. **Additional Headings:** Many solutions utilize Snowflake Notebooks or Streamlit. If the solution includes mentions of these, ensure to include a section describing them. If a Snowflake Notebook or Streamlit application is mentioned, provide a detailed description of its purpose and functionality. Note that the actual notebook will be manually uploaded later; therefore, you should focus on describing its intended use and importance in the document.\n5. **Image Placement:** Insert images exactly where they are referenced in the content. Images should be included inline within the text, not at the end.\n\n**Generate the document based on the above and that no Markdown syntax remains.**\n\"\"\"\n\nresponse = Complete('mistral-large', prompt.replace(\"'\", \"''\"))\nresponse",
   "execution_count": null
  },
  {
   "cell_type": "code",
   "id": "80beedcd-2615-4ecc-bbeb-f1f06342acc4",
   "metadata": {
    "language": "python",
    "name": "sql_setup",
    "collapsed": false
   },
   "outputs": [],
   "source": "sql_setup_section = f\"\"\"\n## Creating Snowflake Objects\n\n```sql\n{query_text}\n```\n\"\"\"\nsql_setup_section",
   "execution_count": null
  },
  {
   "cell_type": "code",
   "id": "1d1a52df-6d41-45fd-9dd1-4e4afc8d48c0",
   "metadata": {
    "language": "python",
    "name": "insert_setup",
    "collapsed": false
   },
   "outputs": [],
   "source": "import re \n\n# New content to be inserted\nnew_content = f\"\"\"\n## Creating Snowflake Objects\n\nFollow below instructions to get the FactSet Tick History data from Snowflake Marketplace.\n- Navigate to [Snowsight](https://app.snowflake.com/)\n- Click: Data Products\n- Click: Marketplace\n- Search: FactSet Tick History\n- Scroll Down and Click: Tick History\n- Click: Get\n- Make sure the Database name is: Tick_History\n- Which roles, in addition to ACCOUNTADMIN, can access this database? PUBLIC\n- Click: Get\n\n### Creating Objects, Loading Data, and Joining Data\nDuration: 3\n\nNavigate to Worksheets, click \"+\" in the top-right corner to create a new Worksheet, and choose \"SQL Worksheet\".\n\nPaste and run the following SQL in the worksheet to create Snowflake objects (database, schema, tables),\n\n```sql\n{query_text}\n```\n\"\"\"\n\noverview_start = response.find('## Overview')\nif overview_start == -1:\n    updated_document = response\nelse:\n    # Define a regular expression pattern for headers starting with \"## \" followed by any character\n    pattern = r'^##\\s'\n\n    # Use re.search to find the next header starting with \"## \" after the Overview section\n    match = re.search(pattern, response[overview_start + len('## Overview'):], re.MULTILINE)\n    \n    if match:\n        # Calculate the exact start position of the next \"## \" section\n        next_section_start = overview_start + len('## Overview') + match.start()\n    else:\n        next_section_start = -1  # If no other section header is found\n\nif next_section_start == -1:\n    # If no other section is found, insert at the end of the document\n    next_section_start = len(response)\n\n# Insert the new content after the \"## Overview\" section\nupdated_document = response[:next_section_start] + new_content + response[next_section_start:]\n\nupdated_document",
   "execution_count": null
  },
  {
   "cell_type": "code",
   "id": "b61f1856-ebe7-4da3-b461-043fc504c477",
   "metadata": {
    "language": "python",
    "name": "prep_doc",
    "collapsed": false
   },
   "outputs": [],
   "source": "def prepare_document_for_llm(document):\n    # Replace line breaks with a special marker\n    return document.replace('\\n', '<LINE_BREAK>')\n\n# Prepare the document\nprepared_document = prepare_document_for_llm(updated_document)\nprepared_document",
   "execution_count": null
  },
  {
   "cell_type": "code",
   "id": "135aa428-59c3-4396-8528-f9d64c00ec22",
   "metadata": {
    "language": "python",
    "name": "convert_doc",
    "collapsed": false
   },
   "outputs": [],
   "source": "import re\n\ndef convert_image_references(text):\n    # Regular expression to match image references\n    img_pattern = re.compile(r'!\\[([^\\]]*)\\]\\(img/([^\\)]*)\\)')\n    \n    # Function to replace matched references\n    def replace_match(match):\n        alt_text = match.group(1)\n        image_path = match.group(2)\n        return f'<img src=\"assets/{image_path}\"/>'\n    \n    # Perform the replacement\n    return img_pattern.sub(replace_match, text)\n\n\ncorrected_document = convert_image_references(prepared_document)\nprint(corrected_document)\n",
   "execution_count": null
  },
  {
   "cell_type": "code",
   "id": "a64ef9e2-baf2-4980-880c-e194c38a3d5d",
   "metadata": {
    "language": "python",
    "name": "restore_breaks",
    "collapsed": false
   },
   "outputs": [],
   "source": "def restore_line_breaks(document):\n    # Replace special markers back with line breaks\n    return document.replace('<LINE_BREAK>', '\\n')\n\n# Restore the line breaks in the corrected document\ncorrected_document = restore_line_breaks(corrected_document)\ncorrected_document",
   "execution_count": null
  },
  {
   "cell_type": "code",
   "id": "65716dcf-7e8a-43f1-8a99-86ebbb196670",
   "metadata": {
    "language": "python",
    "name": "write_to_file",
    "collapsed": false
   },
   "outputs": [],
   "source": "# with open(\"quickstart.md\",'w', encoding='utf-8') as f:\n#     f.write(\"```\\n\")\n#     for row in query_history_df.collect(): \n#         query_text = row['QUERY_TEXT']\n#         if not query_text.strip().endswith(';'):\n#             query_text += ';'\n#         f.write(query_text) \n#         f.write(\"\\n\")\n#     f.write(\"```\\n\")\n# f.close()\n\nwith open(\"quickstart.md\",'w', encoding='utf-8') as f:\n    f.write(\"```\\n\")\n    f.write(corrected_document)\n    f.write(\"```\\n\")\nf.close()\n",
   "execution_count": null
  },
  {
   "cell_type": "code",
   "id": "c484f175-78c2-4400-98ba-3405b09e41e5",
   "metadata": {
    "language": "python",
    "name": "save_to_stage",
    "collapsed": false
   },
   "outputs": [],
   "source": "put_result = session.file.put(\"quickstart.md\",f\"@{db}.ANALYTICS.QUICKSTART\", auto_compress= False)\nput_result[0].status",
   "execution_count": null
  }
 ]
}