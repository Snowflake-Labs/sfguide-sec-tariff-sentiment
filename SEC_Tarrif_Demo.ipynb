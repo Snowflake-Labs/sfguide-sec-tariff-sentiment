{
 "metadata": {
  "kernelspec": {
   "display_name": "Streamlit Notebook",
   "name": "streamlit"
  },
  "lastEditStatus": {
   "notebookId": "z6zdi2kvkn6kjqnby433",
   "authorId": "268319953597",
   "authorName": "HARTLANDBROWN",
   "authorEmail": "hartland.brown@snowflake.com",
   "sessionId": "0d73f632-c58a-46be-9733-1ce5feec7c18",
   "lastEditTime": 1755288534267
  }
 },
 "nbformat_minor": 5,
 "nbformat": 4,
 "cells": [
  {
   "cell_type": "markdown",
   "id": "c43dda08-48a0-4ef1-9f2b-15554b7b3e19",
   "metadata": {
    "name": "title",
    "collapsed": false
   },
   "source": "# Snowflake Public Data Demo - Tariff Sentiment\n\nThis notebook is written to help explore the [Snowflake Public Data Set](https://app.snowflake.com/marketplace/providers/GZTSZAS2KCS/Snowflake%20Public%20Data%20Products), a large catalog of data sets curated by Snowflake to help customers fully unlock their own data. \n\nThis demo specifically uses the SEC Filings data set, and leverages it to analyze the sentiment that different companies may have towards Tariffs.\n\nThis notebook will:\n- Filter the data for 10-Q forms\n- Extract all data that mentions Tariffs\n- Pass this data through Cortex to analyze sentiment\n- Display graphs and raw results of sentiment analysis"
  },
  {
   "cell_type": "markdown",
   "id": "002e64be-183c-465d-a745-c4187e507da5",
   "metadata": {
    "name": "get_data",
    "collapsed": false
   },
   "source": "## Download the SEC Snowflake Public Data Set\n\nYou can download the SEC Filings data [here](https://app.snowflake.com/marketplace/listing/GZTSZAS2KH9/snowflake-public-data-products-sec-filings?originTab=provider&providerName=Snowflake+Public+Data+Products&profileGlobalName=GZTSZAS2KCS) or run the lines of SQL code below!\n\nPlease change the variable \"PUBLIC_DATA_DB\" to reflect the name you give the database.\n\nIf you have not used the marketplace before, or have not verified the email associated with your snowflake login, please follow [these steps](https://docs.snowflake.com/en/user-guide/ui-snowsight-profile#verify-your-email-address)"
  },
  {
   "cell_type": "code",
   "id": "6e01dabb-129d-479e-93af-8f646ced6872",
   "metadata": {
    "language": "sql",
    "name": "Download_SEC_Data"
   },
   "outputs": [],
   "source": "-- Request the listing\nCALL SYSTEM$REQUEST_LISTING_AND_WAIT('GZTSZAS2KH9');\n\n-- Accept legal terms for the listing. Email verification is required to create the database from listing GZ1MXZFTF1\nCALL SYSTEM$ACCEPT_LEGAL_TERMS('DATA_EXCHANGE_LISTING', 'GZTSZAS2KH9');\n\n -- Download SEC Data\n CREATE DATABASE IF NOT EXISTS MARKETPLACE_CYBERSYN\n  FROM LISTING 'GZTSZAS2KH9';",
   "execution_count": null
  },
  {
   "cell_type": "code",
   "id": "4bb56004-9e42-4fca-b9d1-03ce793de6df",
   "metadata": {
    "language": "python",
    "name": "PUBLIC_DB_NAME",
    "codeCollapsed": false
   },
   "outputs": [],
   "source": "# Update this to reflect the name of the database where the Snowflake Public Data listing was consumed\nPUBLIC_DATA_DB=\"MARKETPLACE_CYBERSYN\"",
   "execution_count": null
  },
  {
   "cell_type": "code",
   "id": "2a517364-27b5-4a31-9c48-94382d973e93",
   "metadata": {
    "language": "sql",
    "name": "GET_10Q_DATA"
   },
   "outputs": [],
   "source": "-- tag for tracking purposes\nALTER SESSION SET query_tag = '{\"origin\":\"sf_sit-is\",\"name\":\"snowflake_public_data_tariff_sentiment\",\"version\":{\"major\":1, \"minor\":0},\"attributes\":{\"is_quickstart\":0, \"source\":\"sql\"}}';\n\n-- Create subset of index table\nCREATE TABLE IF NOT EXISTS sec_demo.sec_report_idx AS (\n    SELECT\n        *\n    FROM\n        {{PUBLIC_DATA_DB}}.cybersyn.sec_report_index\n    WHERE\n        form_type = '10-Q'\n        AND (\n            fiscal_year = 2025\n            OR fiscal_year = 2024\n        )\n);\n\n-- Create subset of report text table\nCREATE TABLE IF NOT EXISTS sec_demo.sec_report_text_att AS (\n    SELECT\n        att.*\n    FROM\n        {{PUBLIC_DATA_DB}}.cybersyn.sec_report_text_attributes AS att\n        INNER JOIN sec_demo.sec_report_idx USING (adsh)\n    WHERE\n        variable_name = '10-Q Filing Text'\n);",
   "execution_count": null
  },
  {
   "cell_type": "markdown",
   "id": "700bdd48-ee79-466b-9bf0-7a246c9c1795",
   "metadata": {
    "name": "extract_tariff_title",
    "collapsed": false
   },
   "source": "## Run SQL statements to extract reports that mention tariffs"
  },
  {
   "cell_type": "code",
   "id": "c695373e-ac74-4b62-a1f1-08206cbd5c81",
   "metadata": {
    "language": "sql",
    "name": "extract_tariff_mentions"
   },
   "source": "-- Find forms that mention tariffs somewhere\nCREATE TABLE IF NOT EXISTS sec_demo.sec_report_mentions_tariff AS (\n    WITH mentions_tariff AS (\n        SELECT\n            DISTINCT adsh\n        FROM\n            sec_demo.sec_report_text_att\n        WHERE\n            value ILIKE '%tariff%'\n    )\n    SELECT\n        idx.filed_date,\n        text.adsh,\n        value AS form_text\n    FROM\n        mentions_tariff\n        INNER JOIN sec_demo.sec_report_text_att AS text USING (adsh)\n        INNER JOIN sec_demo.sec_report_idx AS idx USING (adsh)\n);\n\n-- Break up forms that mention tariffs into sentences\nCREATE TABLE IF NOT EXISTS sec_demo.report_sentences AS (\n    SELECT\n        adsh,\n        seq,\n        index,\n        value,\n    FROM\n        sec_demo.sec_report_mentions_tariff,\n        LATERAL STRTOK_SPLIT_TO_TABLE(form_text, '.')\n);\n\n-- Filter table to only show sentences that mention tariffs\nCREATE TABLE IF NOT EXISTS sec_demo.tariff_sentences AS (\n    SELECT\n        idx.filed_date,\n        idx.adsh,\n        seq,\n        index,\n        TRIM(value) AS value\n    FROM\n        sec_demo.report_sentences\n        INNER JOIN sec_demo.sec_report_idx AS idx USING (adsh)\n    WHERE\n        value ILIKE '%tariff%'\n);\n\n-- Combine sentences before/after sentence that mentions tariffs to give more context\nCREATE TABLE IF NOT EXISTS sec_demo.tariff_sections AS (\n    WITH\n        all_sentences AS (\n            SELECT DISTINCT\n                r.*\n            FROM\n                sec_demo.tariff_sentences AS t\n                LEFT JOIN sec_demo.report_sentences AS r ON (\n                    r.seq = t.seq\n                    AND r.adsh = t.adsh\n                    AND ABS(r.index - t.index) < 3\n                )\n            ORDER BY\n                r.adsh,\n                r.seq,\n                r.index asc\n        )\n    SELECT\n        adsh,\n        LISTAGG(value, '. ') WITHIN GROUP (\n            ORDER BY\n                seq,\n                index asc\n        ) AS tariff_section\n    FROM\n        all_sentences\n    GROUP BY\n        ALL\n);\n",
   "execution_count": null,
   "outputs": []
  },
  {
   "cell_type": "markdown",
   "id": "97122a65-dc1a-478e-81ac-0a9c2e1ec3d8",
   "metadata": {
    "name": "label_llm_title",
    "collapsed": false
   },
   "source": "## Pass report sections to LLM for labelling\nThis query can take 5-10 minutes to run, it's best to run it ahead of the demo to allow the results to be materialized."
  },
  {
   "cell_type": "code",
   "id": "1f8bb765-89f1-4b92-81f0-703250669096",
   "metadata": {
    "language": "sql",
    "name": "pass_reports_to_cortex",
    "collapsed": false,
    "codeCollapsed": false
   },
   "outputs": [],
   "source": "ALTER ACCOUNT SET CORTEX_ENABLED_CROSS_REGION = 'ANY_REGION';\n\n-- Pass tariff sections to Claude to label the sentiment\nCREATE TABLE IF NOT EXISTS sec_demo.tariff_section_sentiment AS (\n    WITH\n        dated_reports AS (\n            SELECT\n                idx.filed_date,\n                sec.*\n            FROM\n                sec_demo.tariff_sections sec\n                INNER JOIN sec_demo.sec_report_idx AS idx USING (adsh)\n        )\n    SELECT\n        *,\n        SNOWFLAKE.CORTEX.COMPLETE (\n            'claude-4-sonnet',\n            CONCAT(\n                'This is a snippet of a 10-Q from the SEC, please label if this report is overall Pessimistic, Neutral or Optimistic regarding their business and how it relates to tariffs. We should only label the report as Pessimistic if it explictly calls out tariffs as an increased risk. If tariffs are mentioned in passing or they are part of standard disclaimers then we should label the report as Neutral. Start your reponse with either Pessimistic, Neutral or Optimistic and then breifly explain your reasoning only if the answer is NOT Neutral: ',\n                tariff_section\n            )\n        ) AS sentiment\n    FROM\n        dated_reports\n    WHERE\n        LENGTH(tariff_section) < 100000\n        AND filed_date > '2025-01-01'\n    LIMIT\n        1000\n);",
   "execution_count": null
  },
  {
   "cell_type": "markdown",
   "id": "6b4b9b13-e511-4548-9c3c-52f6c1a50e70",
   "metadata": {
    "name": "analyze_title",
    "collapsed": false
   },
   "source": "## Analyze results\nThis section contains cells to graph and explore the results"
  },
  {
   "cell_type": "code",
   "id": "f524b65c-f424-4b94-b049-ee6551499807",
   "metadata": {
    "language": "sql",
    "name": "group_results"
   },
   "outputs": [],
   "source": "select\n    filed_date,\n    DATE_TRUNC ('MONTH', filed_date) AS filed_month,\n    count(distinct adsh) as tariff_mentions\nfrom\n    sec_demo.sec_report_mentions_tariff\n    where timediff(DAY, filed_date, current_timestamp())< 150\ngroup by\n    all;",
   "execution_count": null
  },
  {
   "cell_type": "code",
   "id": "2354da94-da8b-471d-a098-d7a26ee70e7e",
   "metadata": {
    "language": "python",
    "name": "graphs",
    "collapsed": false,
    "codeCollapsed": false
   },
   "outputs": [],
   "source": "import altair as alt\nimport pandas as pd\nfrom datetime import datetime\nfrom snowflake.snowpark.functions import col, month, sum, lit\n\nSHOW_VERTICAL_LINE = True\n\n\nvline_date_and_label = pd.DataFrame({\n    'date': [datetime(2025, 4, 2)],\n    'label_text': ['April 2nd'], # The text you want to display\n    'label_y': [400]    # Y-coordinate for the label\n})\n\nvertical_line = alt.Chart(vline_date_and_label).mark_rule(color=\"red\", strokeWidth=2,strokeDash=[5, 5]  ).encode(\n    x='date:T'\n)\n# Text label for the vertical line\ntext_label = alt.Chart(vline_date_and_label).mark_text(\n    align='left',      # Align text to the left of the x-coordinate\n    baseline='middle', # Vertically align text to its middle\n    dx=7,              # Horizontal offset (pixels) to the right of the line\n    dy=-15,            # Vertical offset (pixels) to move it up slightly from label_y if needed\n    fontSize=12,\n    color='red'\n).encode(\n    x='date:T',\n    y='label_y:Q',     # Use the y-coordinate from our DataFrame\n    text='label_text:N' # Use the label text from our DataFrame\n)\n\n\nday_aggregated = group_results.to_df().group_by(col(\"FILED_DATE\")).agg(sum(\"TARIFF_MENTIONS\").alias(\"TARIFF_MENTIONS\"))\nfilings_chart = alt.Chart(day_aggregated.to_pandas()).mark_bar().encode(\n    x= alt.X(\"FILED_DATE\", axis = alt.Axis(labelAngle=0, title='Filed Date')),\n    y=alt.Y(\"TARIFF_MENTIONS\",axis = alt.Axis(title='# of Reports'))\n).properties(\n    width=800,\n    height=300,\n    title=\"Number of Filings that Mention Tariffs\"  \n)\n\n\n\ntop_chart = filings_chart if not SHOW_VERTICAL_LINE else filings_chart+vertical_line+text_label\n\ntop_chart\n",
   "execution_count": null
  },
  {
   "cell_type": "markdown",
   "id": "2416e920-9cff-4062-a49f-47ac3f22396e",
   "metadata": {
    "name": "sent_title",
    "collapsed": false
   },
   "source": "## Explore company sentiments towards tariffs"
  },
  {
   "cell_type": "code",
   "id": "8e14e623-20a8-4cb7-b435-9897735ba51c",
   "metadata": {
    "language": "sql",
    "name": "graphs_2",
    "collapsed": false,
    "codeCollapsed": false
   },
   "outputs": [],
   "source": "select\n    INITCAP(c_idx.company_name) as company_name,\n    cik,\n    filed_date,\n    adsh,\n    tariff_section,\n    sentiment\nfrom\n    sec_demo.tariff_section_sentiment\n    inner join sec_demo.sec_report_idx using (adsh)\n    inner join {{PUBLIC_DATA_DB}}.cybersyn.company_index as c_idx using (CIK)\nwhere\n    sentiment ilike 'Pessimistic%' or sentiment ilike 'Optimistic%';",
   "execution_count": null
  },
  {
   "cell_type": "code",
   "id": "cd38ddca-4302-49d0-9ffa-96e3435f5941",
   "metadata": {
    "language": "python",
    "name": "explorer",
    "collapsed": false,
    "codeCollapsed": false
   },
   "outputs": [],
   "source": "import streamlit as st\nimport re\n\ndef bracket_tariff(text):\n  def replace_match(match):\n    word = match.group(0)\n    return f\"**:red-background[{word}]**\"\n\n  # This regex looks for \"tariff\" or \"tariffs\", ignoring case.\n  # \\b ensures we match whole words only.\n  pattern = r\"\\b(tariff|tariffs)\\b\"\n  return re.sub(pattern, replace_match, text, flags=re.IGNORECASE)\n\n\nresults = graphs_2.to_pandas()\ncompanies = results['COMPANY_NAME']\nwith st.container(height=1000):\n\n    selected_comp = st.selectbox('Select company', sorted(list(set(companies))))\n    \n    st.markdown(f'## 10-Q Reports from {selected_comp} that mention tariffs')\n    \n    \n    selected_data = results[results['COMPANY_NAME']==selected_comp]\n    selected_data.sort_values(by='FILED_DATE', ascending=False)\n    \n    for index, row in selected_data.iterrows():\n        with st.expander(f\"10-Q Filed on {row['FILED_DATE']}\"):\n            adsh = row['ADSH']\n            url = f\"https://www.sec.gov/edgar/search/#/q={adsh}\"\n\n            llm_raw = row['SENTIMENT'].split(' ')\n            prefix = \":red-background[Pessimistic on tariffs]\\n\\n\" if llm_raw[0].startswith('Pessimistic') else  \":green-background[Optimistic on tariffs]\\n\\n\" \n            llm_explaination = ' '.join(llm_raw[1:])\n            llm = prefix + llm_explaination\n            \n            markdown_text = bracket_tariff(row[\"TARIFF_SECTION\"]).replace('$','\\$')\n            st.markdown(f'**See full report on SEC website**: [{adsh}]({url})')\n            st.markdown(f\"**LLM Verdict**: {llm}\")\n            st.markdown('**Section that mentions tariffs**:\\n\\n'+markdown_text)\n",
   "execution_count": null
  }
 ]
}